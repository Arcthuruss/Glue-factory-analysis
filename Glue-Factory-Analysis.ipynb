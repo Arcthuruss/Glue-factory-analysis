{
 "cells": [
  {
   "cell_type": "markdown",
   "id": "bb2c857c4594de0a",
   "metadata": {},
   "source": [
    "# R5.C.08 - Analyse de données : ACP, AFC\n",
    "\n",
    "## 1. Codesource, fichier(s) de données ou un lien de récupération\n",
    "\n",
    "\n",
    "Le code source et le jeu de données sont disponibles sur GitHub :\n",
    "- [https://github.com/Arcthuruss/Glue-factory-analysis](https://github.com/Arcthuruss/Glue-factory-analysis)\n",
    "**Instruction** : Git LFS est requis pour cloner le dépôt car le jeu de données est volumineux (=448Mo).\n",
    "\n",
    "---\n",
    "\n",
    "## 2. Introduction, constitution du groupe\n",
    "\n",
    "Le projet consiste à analyser un jeu de données de notre choix en utilisant des techniques d'analyse de données vues lors de la ressource R5.C.08 - Techniques d'intelligence artificielle.\n",
    "Avec pour objectif de pratiquer les techniques d'ACP (Analyse en Composantes Principales) et d'AFC (Analyse Factorielle des Correspondances) sur des variables quantitatives et qualitatives respectivement.\n",
    "\n",
    "Le projet a été réalisé par un groupe de deux personnes :\n",
    "- DONNARD Luc\n",
    "- NÉVOT Pierre\n",
    "\n",
    "---\n",
    "\n",
    "## 3. Description du jeu de données\n",
    "\n",
    "Le jeu de données provient de Kaggle : [https://www.kaggle.com/datasets/takamotoki/jra-horse-racing-dataset](https://www.kaggle.com/datasets/takamotoki/jra-horse-racing-dataset)\n",
    "\n",
    "Il contient plusieurs csv tel que :\n",
    "- 19860105-20210731_laptime.csv qui contient les données des tours de chaque course entre 1986 et 2021\n",
    "- 19860105-20210731_odds.csv qui contient les cotes des chevaux pour chaque course entre 1986 et 2021\n",
    "- 19860105-20210731_race_results.csv qui contient les résultats de chaque course entre 1986 et 2021\n",
    "- 20020615-20210731_corner_passing_order.csv qui contient les positions des chevaux à chaque virage entre 2002 et 2021\n",
    "\n",
    "On a choisi d'utiliser 19860105-20210731_race_results.csv car il contient des informations sur le resultat du cheval gagnant ainsi que pleins d'informations sur la course.\n",
    "Le dataset contient au minimun 1 554 146 entrées et 66 colonnes au total.\n",
    "\n",
    "En voici les principales variables :\n",
    "- Turf and Dirt Category : Catégorie de la piste (herbe ou terre)\n",
    "- Clockwise And Anti-clockwise and Straight Course Category : Catégorie de la course (sens horaire, antihoraire ou ligne droite)\n",
    "- Distance(m) : Distance de la course en mètres\n",
    "- Weather : Conditions météorologiques\n",
    "- Track Condition1 : État de la piste\n",
    "- Final Position : Position finale du cheval\n",
    "- Bracket Number : Numéro de la série\n",
    "- Post Position : Position de départ\n",
    "- Horse Name : Nom du cheval\n",
    "- Age : Âge du cheval\n",
    "- Jockey : Nom du jockey\n",
    "- Total Time(1/10s) : Temps total en dixièmes de seconde\n",
    "- Position 3rd Corner : Position au 3ème virage\n",
    "- Position 4th Corner : Position au 4ème virage\n",
    "- Win Odds(100Yen) : Cote de victoire (en 100 Yen)\n",
    "- Win Fav : Favori à la victoire\n",
    "\n",
    "Le contexte est l'analyse des courses de chevaux au Japon, en utilisant des données historiques pour identifier des tendances et des facteurs influençant les résultats des courses.\n",
    "\n",
    "---\n",
    "\n",
    "## 4. Nettoyage de données\n",
    "\n",
    "On a retiré les colonnes non pertinentes qui contenaient des valeurs non pertinentes et incomplètes.\n",
    "On a ensuite traduit les attributs importants du japonais vers l'anglais pour faciliter l'analyse.\n",
    "Tel que le type de course, si la course est dans le sens des aiguilles d'une montre ou non, la météo, l'état de la piste.\n",
    "A part cela le dataset étant propre on a 1 554 146 entrées de données complètes."
   ]
  },
  {
   "cell_type": "code",
   "execution_count": null,
   "id": "369ceed8a077120a",
   "metadata": {
    "ExecuteTime": {
     "end_time": "2025-10-10T07:27:58.501771Z",
     "start_time": "2025-10-10T07:27:58.022382Z"
    }
   },
   "outputs": [],
   "source": [
    "# imports du projet\n",
    "import csv\n",
    "import json\n",
    "import pandas as pd\n",
    "import numpy as np\n",
    "import matplotlib.pyplot as plt\n",
    "import seaborn\n",
    "from sklearn.decomposition import PCA\n",
    "from sklearn.preprocessing import StandardScaler\n",
    "\n",
    "time_str_to_ms = lambda time_as_str : [(int(i[0])*600 + int(i[1])*10 + int(i[2])) for i in [i.replace(':', ' ').replace('.', ' ').split(' ') for i in time_as_str]]"
   ]
  },
  {
   "cell_type": "code",
   "execution_count": null,
   "id": "e38a3cc95b82f5f4",
   "metadata": {},
   "outputs": [],
   "source": [
    "# filter script\n",
    "\n",
    "input_file = \"./datasets/19860105-20210731_race_result.csv\"\n",
    "output_file = \"./clean_datasets/filtered_race_result.csv\"\n",
    "\n",
    "# Ligne qui va être supprimée (pas de nom de colonne car le header est en japonais et prendrais trop de temps)\n",
    "positions = [0, 1, 2, 3, 4, 5, 6, 7, 8, 9, 10, 11, 12, 13, 14, 15, 16, 17, 18, 19, 20, 21, 22, 23, 24, 25, 26, 27, 28, 29, 30, 31, 32, 34, 36, 40, 41, 43, 47, 49, 52, 53, 54, 57, 60, 61, 62, 63, 64, 65]\n",
    "\n",
    "with open(input_file, newline='', encoding='utf-8') as infile, \\\n",
    "    open(output_file, 'w', newline='', encoding='utf-8') as outfile:\n",
    "    reader = csv.reader(infile)\n",
    "    writer = csv.writer(outfile)\n",
    "    for row in reader:\n",
    "        filtered_row = [col for i, col in enumerate(row) if i not in positions]\n",
    "        if all(filtered_row):\n",
    "            writer.writerow(filtered_row)\n",
    "\n",
    "# Remplace le header par le header en anglais\n",
    "with open(output_file, 'r', newline='', encoding='utf-8') as infile:\n",
    "    lines = infile.readlines()\n",
    "header = \"Turf and Dirt Category,Clockwise And Anti-clockwise and Straight Course Category,Distance(m),Weather,Track Condition1,Final Position,Bracket Number,Post Position,Horse Name,Age,Jockey,Total Time(1/10s),Position 3rd Corner,Position 4th Corner,Win Odds(100Yen),Win Fav\"\n",
    "lines[0] = header + \"\\n\"\n",
    "with open(output_file, 'w', newline='', encoding='utf-8') as outfile:\n",
    "    outfile.writelines(lines)\n"
   ]
  },
  {
   "cell_type": "code",
   "execution_count": null,
   "id": "d552ec585b383641",
   "metadata": {
    "ExecuteTime": {
     "end_time": "2025-10-08T20:15:00.871449Z",
     "start_time": "2025-10-08T20:14:14.900028Z"
    }
   },
   "outputs": [
    {
     "ename": "SyntaxError",
     "evalue": "invalid syntax. Perhaps you forgot a comma? (1150145917.py, line 29)",
     "output_type": "error",
     "traceback": [
      "  \u001b[36mCell\u001b[39m\u001b[36m \u001b[39m\u001b[32mIn[11]\u001b[39m\u001b[32m, line 29\u001b[39m\n\u001b[31m    \u001b[39m\u001b[31mfor i, value in enumerate(df[csudo ubuntu-driversol]):\u001b[39m\n                                 ^\n\u001b[31mSyntaxError\u001b[39m\u001b[31m:\u001b[39m invalid syntax. Perhaps you forgot a comma?\n"
     ]
    }
   ],
   "source": [
    "# Traduit les noms propres jopnais en anglais\n",
    "\n",
    "# Fonction pour charger le cache\n",
    "def load_cache(cache_file):\n",
    "    try:\n",
    "        with open(cache_file, 'r', encoding='utf-8') as f:\n",
    "            return json.load(f)\n",
    "    except FileNotFoundError:\n",
    "        return {}\n",
    "\n",
    "# Fonction pour sauvegarder le cache\n",
    "def save_cache(cache, cache_file):\n",
    "    with open(cache_file, 'w', encoding='utf-8') as f:\n",
    "        json.dump(cache, f, ensure_ascii=False, indent=4)\n",
    "\n",
    "# Si la valeur n'est pas dans le cache, demande la traduction\n",
    "def ask_translation(text):\n",
    "    print(f\"Traduction pour '{text}': \", end=\"\")\n",
    "    return input().strip()\n",
    "\n",
    "def annotate_csv(input_file, output_file, cache_file='translation_cache.json'):\n",
    "    cache = load_cache(cache_file)\n",
    "    df = pd.read_csv(input_file)\n",
    "\n",
    "    # Ne traiter que les 5 premières colonnes\n",
    "    cols_to_check = df.columns[:5]\n",
    "\n",
    "    for col in cols_to_check:\n",
    "        for i, value in enumerate(df[col]):\n",
    "            if pd.isna(value):\n",
    "                continue\n",
    "            # Vérifier si la valeur est du texte japonais et non déjà dans le cache\n",
    "            if value not in cache and any('\\u3040' <= char <= '\\u30ff' or '\\u4e00' <= char <= '\\u9faf' for char in str(value)):\n",
    "                translation = ask_translation(value)\n",
    "                cache[value] = translation\n",
    "\n",
    "    save_cache(cache, cache_file)\n",
    "\n",
    "def replace_with_cache(df, cache):\n",
    "    for col in df.columns[:5]:\n",
    "        df[col] = df[col].apply(lambda x: cache.get(x, x) if pd.notna(x) else x)\n",
    "    return df\n",
    "\n",
    "input_file = \"./clean_datasets/filtered_race_result.csv\"\n",
    "output_file = \"./clean_datasets/translated_race_result.csv\"\n",
    "annotate_csv(input_file, output_file)\n",
    "cache = load_cache('translation_cache.json')\n",
    "df = pd.read_csv(input_file)\n",
    "df = replace_with_cache(df, cache)\n",
    "df.to_csv(output_file, index=False)"
   ]
  },
  {
   "cell_type": "code",
   "execution_count": null,
   "id": "ed7624904e10371f",
   "metadata": {
    "ExecuteTime": {
     "end_time": "2025-10-10T07:17:29.882409Z",
     "start_time": "2025-10-10T07:17:24.519011Z"
    }
   },
   "outputs": [],
   "source": [
    "translated_file = \"./clean_datasets/translated_race_result.csv\"\n",
    "df = pd.read_csv(translated_file)"
   ]
  },
  {
   "cell_type": "markdown",
   "id": "e869d1cee1e267d",
   "metadata": {},
   "source": [
    "---\n",
    "\n",
    "## 5. Variables quantitatives : ACP\n",
    "\n",
    "### 5.1 Standardisation\n",
    "\n",
    "\n",
    "\n",
    "\n",
    "\n",
    "\n",
    "\n",
    "\n",
    "\n",
    "\n"
   ]
  },
  {
   "cell_type": "code",
   "execution_count": null,
   "id": "add066a2a91c776b",
   "metadata": {
    "ExecuteTime": {
     "end_time": "2025-10-10T08:43:34.117264Z",
     "start_time": "2025-10-10T08:43:34.110383Z"
    }
   },
   "outputs": [],
   "source": [
    "distance = df.iloc[:, 2].values\n",
    "final_position = df.iloc[:, 5].values\n",
    "bracket_number = df.iloc[:, 6].values\n",
    "post_position = df.iloc[:, 7].values\n",
    "age = df.iloc[:, 9].values\n",
    "third_corner_position = df.iloc[:, 12].values\n",
    "fourth_corner_position = df.iloc[:, 13].values\n",
    "win_odds = df.iloc[:, 14].values\n",
    "win_fav = df.iloc[:, 15].values\n"
   ]
  },
  {
   "cell_type": "markdown",
   "id": "5450a2d6f2f0efe3",
   "metadata": {},
   "source": [
    "### 5.2 Entraînement du modèle\n",
    "\n",
    "Effectuez une ACP (Analyse en Composantes Principales) sur les données standardisées."
   ]
  },
  {
   "cell_type": "code",
   "execution_count": null,
   "id": "d07d59e8504cc28e",
   "metadata": {
    "ExecuteTime": {
     "end_time": "2025-10-10T08:43:58.054620Z",
     "start_time": "2025-10-10T08:43:57.127505Z"
    }
   },
   "outputs": [
    {
     "ename": "NameError",
     "evalue": "name 'final_position' is not defined",
     "output_type": "error",
     "traceback": [
      "\u001b[31m---------------------------------------------------------------------------\u001b[39m",
      "\u001b[31mNameError\u001b[39m                                 Traceback (most recent call last)",
      "\u001b[36mCell\u001b[39m\u001b[36m \u001b[39m\u001b[32mIn[8]\u001b[39m\u001b[32m, line 2\u001b[39m\n\u001b[32m      1\u001b[39m pca = PCA(n_components=\u001b[32m2\u001b[39m)\n\u001b[32m----> \u001b[39m\u001b[32m2\u001b[39m \u001b[38;5;28mprint\u001b[39m(pca.fit_transform(\u001b[43mfinal_position\u001b[49m))\n",
      "\u001b[31mNameError\u001b[39m: name 'final_position' is not defined"
     ]
    }
   ],
   "source": [
    "pca = PCA(n_components=2)\n",
    "print(pca.fit_transform(final_position))"
   ]
  },
  {
   "cell_type": "markdown",
   "id": "8e1e0e99aa42a6b9",
   "metadata": {},
   "source": [
    "### 5.3 Choix du nombre de composantes principales\n",
    "\n",
    "Expliquez le critère de choix (ex : seuil de variance expliquée)."
   ]
  },
  {
   "cell_type": "code",
   "execution_count": null,
   "id": "7ee86f090a5bc682",
   "metadata": {},
   "outputs": [],
   "source": []
  },
  {
   "cell_type": "markdown",
   "id": "8649f85bac127ca9",
   "metadata": {},
   "source": [
    "### 5.4 Tableau de valeurs singulières + % variance\n",
    "\n",
    "Présentez un tableau avec les valeurs propres et le pourcentage de variance expliquée par chaque composante."
   ]
  },
  {
   "cell_type": "code",
   "execution_count": null,
   "id": "87039d9584da1d7c",
   "metadata": {},
   "outputs": [],
   "source": []
  },
  {
   "cell_type": "markdown",
   "id": "83ff2cd7e5675640",
   "metadata": {},
   "source": [
    "### 5.5 Visualisation des variables avec biplot, étude sur la corrélation entre variables\n",
    "\n",
    "Affichez un biplot et commentez la corrélation entre variables."
   ]
  },
  {
   "cell_type": "code",
   "execution_count": null,
   "id": "f365793d932d1b45",
   "metadata": {},
   "outputs": [],
   "source": []
  },
  {
   "cell_type": "markdown",
   "id": "ebba25b217bf264",
   "metadata": {},
   "source": [
    "### 5.6 Visualisation des individus avec le plan factoriel\n",
    "\n",
    "Projetez les individus sur le plan des deux premières composantes principales."
   ]
  },
  {
   "cell_type": "code",
   "execution_count": null,
   "id": "5b27332e9d0698fb",
   "metadata": {},
   "outputs": [],
   "source": []
  },
  {
   "cell_type": "markdown",
   "id": "c3f56fce",
   "metadata": {},
   "source": [
    "---\n",
    "\n",
    "## 6. Variables qualitatives : AFC\n",
    "\n",
    "### 6.1 Choix de deux variables, tableau de contingence\n",
    "\n",
    "Je choisit les variables \"Weather\" (météo)\", \"Track Condition1\". Pour analyser la relation entre les conditions météorologiques et l'état de la piste.\n",
    "On a retirer \"Clear\" car c'est une anomalie dans les données qui répresente 37 entrées sur 1 554 146."
   ]
  },
  {
   "cell_type": "code",
   "execution_count": null,
   "id": "f26e7117",
   "metadata": {},
   "outputs": [
    {
     "name": "stdout",
     "output_type": "stream",
     "text": [
      "Tableau de contingence entre Weather et Track Condition1:\n",
      "Track Condition1    Bad    Good  Heavy  Slightly Heavy\n",
      "Weather                                               \n",
      "Clear                16      21      0               0\n",
      "Clear Sky         16080  777420  52203           96163\n",
      "Cloudy            32916  299726  49105           80919\n",
      "Light Rain         8020   25520   8021           13511\n",
      "Light Snow            9     683     41             499\n",
      "Rain              28278   21666  17161           24619\n",
      "Snow                341     736    143             329\n",
      "\n",
      "Tableau de contingence entre Weather et Track Condition1:\n",
      "Track Condition1    Bad    Good  Heavy  Slightly Heavy\n",
      "Weather                                               \n",
      "Clear Sky         16080  777420  52203           96163\n",
      "Cloudy            32916  299726  49105           80919\n",
      "Light Rain         8020   25520   8021           13511\n",
      "Light Snow            9     683     41             499\n",
      "Rain              28278   21666  17161           24619\n",
      "Snow                341     736    143             329\n"
     ]
    }
   ],
   "source": [
    "import pandas as pd\n",
    "import numpy as np\n",
    "import seaborn as sns\n",
    "import matplotlib.pyplot as plt\n",
    "import scipy.stats as stats\n",
    "from sklearn.decomposition import FactorAnalysis, PCA\n",
    "from factor_analyzer import FactorAnalyzer\n",
    "from factor_analyzer.factor_analyzer import calculate_bartlett_sphericity\n",
    "\n",
    "# Charger les données\n",
    "data = pd.read_csv('./clean_datasets/translated_race_result.csv')\n",
    "# On garde les colonnes qui ne sont pas Weather et Track Condition1\n",
    "data = data[['Weather', 'Track Condition1']]\n",
    "data = data.dropna()\n",
    "data = data.astype(str)\n",
    "\n",
    "# Tableau de contingence\n",
    "contingency_table = pd.crosstab(data['Weather'], data['Track Condition1'])\n",
    "print(\"Tableau de contingence entre Weather et Track Condition1:\")\n",
    "print(contingency_table)\n",
    "print()\n",
    "\n",
    "# \"Clear\" est une anomalie dans les données donc on la retire\n",
    "contingency_table = contingency_table.drop(index='Clear', errors='ignore')\n",
    "print(\"Tableau de contingence entre Weather et Track Condition1:\")\n",
    "print(contingency_table)"
   ]
  },
  {
   "cell_type": "markdown",
   "id": "34755cb7",
   "metadata": {},
   "source": [
    "### 6.2 Test de sphéricité de Bartlett/Test de Chi2, conclusion sur la corrélation"
   ]
  },
  {
   "cell_type": "code",
   "execution_count": 3,
   "id": "0b103951",
   "metadata": {},
   "outputs": [
    {
     "name": "stdout",
     "output_type": "stream",
     "text": [
      "Chi2: 251533.3541390435, p-value: 0.0, dof: 15, expected: [[5.19044492e+04 6.82260119e+05 7.67706343e+04 1.30930797e+05]\n",
      " [2.54966459e+04 3.35141687e+05 3.77114816e+04 6.43161854e+04]\n",
      " [3.03491349e+03 3.98925423e+04 4.48886824e+03 7.65567594e+03]\n",
      " [6.78931838e+01 8.92424683e+02 1.00419191e+02 1.71262942e+02]\n",
      " [5.05473571e+03 6.64421767e+04 7.47633916e+03 1.27507485e+04]\n",
      " [8.53624527e+01 1.12205019e+03 1.26257570e+02 2.15329787e+02]]\n"
     ]
    }
   ],
   "source": [
    "# Test du Chi2\n",
    "from scipy.stats import chi2_contingency\n",
    "chi2, pval, dof, expected = chi2_contingency(contingency_table)\n",
    "print(f\"Chi2: {chi2}, p-value: {pval}, dof: {dof}, expected: {expected}\")"
   ]
  },
  {
   "cell_type": "markdown",
   "id": "adc4b2a9",
   "metadata": {},
   "source": [
    "On obtient un p-value très faible (inférieur à 0.05), ce qui indique que nous rejetons l'hypothèse nulle d'indépendance entre les deux variables. On peut donc réaliser une AFC sur les deux variables."
   ]
  },
  {
   "cell_type": "markdown",
   "id": "c08de8f3",
   "metadata": {},
   "source": [
    "### 6.3 Standardisation"
   ]
  },
  {
   "cell_type": "code",
   "execution_count": 7,
   "id": "06e271ff",
   "metadata": {},
   "outputs": [
    {
     "name": "stdout",
     "output_type": "stream",
     "text": [
      "Valeurs du tableau de contingence standardisé:\n",
      "Track Condition1       Bad      Good     Heavy  Slightly Heavy\n",
      "Weather                                                       \n",
      "Clear Sky         0.128762  1.895437  1.308938        1.433487\n",
      "Cloudy            1.329113  0.360261  1.178510        1.070232\n",
      "Light Rain       -0.445889 -0.520961 -0.551154       -0.536057\n",
      "Light Snow       -1.017047 -0.600780 -0.887117       -0.846125\n",
      "Rain              0.998439 -0.533347 -0.166354       -0.271361\n",
      "Snow             -0.993377 -0.600610 -0.882823       -0.850176\n",
      "\n",
      "Résultats du test de sphéricité de Bartlett:\n",
      "37.36645254536308 1.4936884404410852e-06\n"
     ]
    }
   ],
   "source": [
    "# Standardisation\n",
    "temp = contingency_table.sub(contingency_table.mean())\n",
    "X_scaled = temp.div(contingency_table.std())\n",
    "\n",
    "print(\"Valeurs du tableau de contingence standardisé:\")\n",
    "print(X_scaled)\n",
    "print()\n",
    "\n",
    "X2_val, p_val = calculate_bartlett_sphericity(X_scaled)\n",
    "print(\"Résultats du test de sphéricité de Bartlett:\")\n",
    "print(X2_val, p_val)"
   ]
  },
  {
   "cell_type": "markdown",
   "id": "e6071ab5",
   "metadata": {},
   "source": [
    "La standardisation est importante pour l'AFC car elle permet de mettre les variables sur une échelle comparable, en éliminant les effets de l'échelle et en facilitant l'interprétation des résultats. \n",
    "\n",
    "La p-value du test de sphéricité de Bartlett indique que les variables sont corrélées, ce qui justifie l'utilisation de l'AFC.\n",
    "\n",
    "Dans notre cas le tableau de contingence standardisé montre les écarts par rapport à la moyenne en termes d'écart-type pour chaque combinaison de conditions météorologiques et d'état de la piste. Par exemple, pour les jours de \"Clear Sky\" (ciel clair), on observe des valeurs standardisées positives pour toutes les conditions de piste, indiquant que ces combinaisons sont plus fréquentes que la moyenne. En revanche, pour les jours de \"Light Snow\" (légère neige), les valeurs sont négatives, suggérant que ces combinaisons sont moins fréquentes que la moyenne."
   ]
  },
  {
   "cell_type": "markdown",
   "id": "8bf431c0",
   "metadata": {},
   "source": [
    "### 6.4 Entraînement du modèle FactorAnalyzer"
   ]
  },
  {
   "cell_type": "code",
   "execution_count": 22,
   "id": "491f97ad",
   "metadata": {},
   "outputs": [
    {
     "name": "stdout",
     "output_type": "stream",
     "text": [
      "Nombre maximum de facteurs: 3\n",
      "\n",
      "[[ 0.72159267  0.67655253  0.05320545]\n",
      " [ 0.87934544 -0.46281127  0.08709726]\n",
      " [ 0.99671748  0.0039898  -0.06231593]\n",
      " [ 0.99369225 -0.08574191 -0.05320548]]\n",
      "\n",
      "[[ 6.25247509e-01  8.14433079e-01  9.11713071e-01  9.12114932e-01]\n",
      " [-6.31547859e-01  4.02332218e-01 -4.57842846e-02  3.69241284e-02]\n",
      " [ 1.97152911e-01  8.39018263e-02 -1.19613984e-05 -1.36986394e-03]]\n",
      "\n",
      "Représentation du premier tableau de facteurs:\n"
     ]
    },
    {
     "name": "stderr",
     "output_type": "stream",
     "text": [
      "C:\\Users\\alias\\AppData\\Local\\Packages\\PythonSoftwareFoundation.Python.3.13_qbz5n2kfra8p0\\LocalCache\\local-packages\\Python313\\site-packages\\sklearn\\utils\\deprecation.py:132: FutureWarning: 'force_all_finite' was renamed to 'ensure_all_finite' in 1.6 and will be removed in 1.8.\n",
      "  warnings.warn(\n"
     ]
    },
    {
     "data": {
      "text/html": [
       "<div>\n",
       "<style scoped>\n",
       "    .dataframe tbody tr th:only-of-type {\n",
       "        vertical-align: middle;\n",
       "    }\n",
       "\n",
       "    .dataframe tbody tr th {\n",
       "        vertical-align: top;\n",
       "    }\n",
       "\n",
       "    .dataframe thead th {\n",
       "        text-align: right;\n",
       "    }\n",
       "</style>\n",
       "<table border=\"1\" class=\"dataframe\">\n",
       "  <thead>\n",
       "    <tr style=\"text-align: right;\">\n",
       "      <th></th>\n",
       "      <th>col_1</th>\n",
       "      <th>col_2</th>\n",
       "      <th>col_3</th>\n",
       "    </tr>\n",
       "    <tr>\n",
       "      <th>Track Condition1</th>\n",
       "      <th></th>\n",
       "      <th></th>\n",
       "      <th></th>\n",
       "    </tr>\n",
       "  </thead>\n",
       "  <tbody>\n",
       "    <tr>\n",
       "      <th>Bad</th>\n",
       "      <td>0.721593</td>\n",
       "      <td>0.676553</td>\n",
       "      <td>0.053205</td>\n",
       "    </tr>\n",
       "    <tr>\n",
       "      <th>Good</th>\n",
       "      <td>0.879345</td>\n",
       "      <td>-0.462811</td>\n",
       "      <td>0.087097</td>\n",
       "    </tr>\n",
       "    <tr>\n",
       "      <th>Heavy</th>\n",
       "      <td>0.996717</td>\n",
       "      <td>0.003990</td>\n",
       "      <td>-0.062316</td>\n",
       "    </tr>\n",
       "    <tr>\n",
       "      <th>Slightly Heavy</th>\n",
       "      <td>0.993692</td>\n",
       "      <td>-0.085742</td>\n",
       "      <td>-0.053205</td>\n",
       "    </tr>\n",
       "  </tbody>\n",
       "</table>\n",
       "</div>"
      ],
      "text/plain": [
       "                     col_1     col_2     col_3\n",
       "Track Condition1                              \n",
       "Bad               0.721593  0.676553  0.053205\n",
       "Good              0.879345 -0.462811  0.087097\n",
       "Heavy             0.996717  0.003990 -0.062316\n",
       "Slightly Heavy    0.993692 -0.085742 -0.053205"
      ]
     },
     "execution_count": 22,
     "metadata": {},
     "output_type": "execute_result"
    }
   ],
   "source": [
    "# Factor Analysis\n",
    "contingency_table.shape\n",
    "n_max_factors = min(contingency_table.shape[0] - 1, contingency_table.shape[1] - 1)\n",
    "print(f\"Nombre maximum de facteurs: {n_max_factors}\")\n",
    "print()\n",
    "\n",
    "fa = FactorAnalyzer(n_factors = n_max_factors, rotation = None)\n",
    "fa.fit(X_scaled)\n",
    "ev, v = fa.get_eigenvalues()\n",
    "fa_res = fa.loadings_\n",
    "print(fa_res)\n",
    "print()\n",
    "\n",
    "fa_new = FactorAnalysis(n_components=n_max_factors, random_state=0)\n",
    "X_transformed = fa_new.fit_transform(X_scaled)\n",
    "print(fa_new.components_)\n",
    "print()\n",
    "\n",
    "print(\"Représentation du premier tableau de facteurs:\")\n",
    "columns = [\"col_\" + str(i + 1) for i in range(n_max_factors)]\n",
    "df_factors = pd.DataFrame(fa.loadings_, columns= columns, index = X_scaled.columns)\n",
    "df_factors.head()"
   ]
  },
  {
   "cell_type": "markdown",
   "id": "362cb83a",
   "metadata": {},
   "source": [
    "On fait notre étude sur 3 facteurs.\n",
    "\n",
    "Avec le premier tableau, de facteurs, on peut en sortir plusieurs informations.\n",
    "La première colonne montre que la première composante est fortement corrélée avec toutes les conditions de piste, donc on peut supposer que la condition de la piste est lié à la météo.\n",
    "\n",
    "La deuxième colonne montre que la deuxième composante est distincte avec Light Snow et Light Rain, donc on peut supposer que ces deux conditions météorologiques ont un impact différent sur l'état de la piste par rapport aux autres conditions.\n",
    "\n",
    "La troisième colonne montre des valeurs proches de zéro, indiquant que cette composante n'apporte pas d'information significative.\n",
    "\n",
    "Avec le second tableau, de composantes principales, on peut en tirer plusieurs informations.\n",
    "[[ 6.25247509e-01  8.14433079e-01  9.11713071e-01  9.12114932e-01]\n",
    " [-6.31547859e-01  4.02332218e-01 -4.57842846e-02  3.69241284e-02]\n",
    " [ 1.97152911e-01  8.39018263e-02 -1.19613984e-05 -1.36986394e-03]]\n",
    "\n",
    "La première ligne montre que les bonnes conditions de pistes sont associées à un ciel clair donc inversement on peut déduire que les mauvaises conditions de pistes sont associées à des conditions météorologiques défavorables.\n",
    "\n",
    "La deuxième ligne montre qu'il y a un contraste entre les différentes conditions météorologiques, en particulier entre \"Light Snow\" et \"Light Rain\" par rapport aux autres conditions.\n",
    "\n",
    "La troisième ligne montre des valeurs proches de zéro, indiquant que cette composante n'apporte pas d'information significative."
   ]
  },
  {
   "cell_type": "markdown",
   "id": "e524399d",
   "metadata": {},
   "source": [
    "### 6.5 ScreePlot pour les valeurs propres de facteurs"
   ]
  },
  {
   "cell_type": "code",
   "execution_count": 23,
   "id": "83f6447b",
   "metadata": {},
   "outputs": [
    {
     "data": {
      "image/png": "[encoded data removed]",
      "text/plain": [
       "<Figure size 640x480 with 1 Axes>"
      ]
     },
     "metadata": {},
     "output_type": "display_data"
    }
   ],
   "source": [
    "# Visualisation des facteurs\n",
    "fig, ax = plt.subplots()\n",
    "labels = [str(i+1).zfill(1) for i in range(len(ev))]\n",
    "ax.bar(labels, ev, label = labels)\n",
    "ax.set_xlabel(\"Factors\")\n",
    "ax.set_ylabel(\"Eigenvalues\")\n",
    "plt.title(\"Scree Plot\")\n",
    "plt.show()"
   ]
  },
  {
   "cell_type": "markdown",
   "id": "cd4d6553",
   "metadata": {},
   "source": [
    "Comme dit précédemment, on peut voir que la première composante explique une grande partie de la variance, la deuxième en explique une partie significative, et la troisième n'apporte pas d'information significative."
   ]
  },
  {
   "cell_type": "markdown",
   "id": "bdacff8d",
   "metadata": {},
   "source": [
    "\n",
    "### 6.6 Graphiques sur 3 rotations différentes"
   ]
  },
  {
   "cell_type": "code",
   "execution_count": 24,
   "id": "594291a1",
   "metadata": {},
   "outputs": [
    {
     "data": {
      "image/png": "[encoded data removed]",
      "text/plain": [
       "<Figure size 1000x800 with 3 Axes>"
      ]
     },
     "metadata": {},
     "output_type": "display_data"
    }
   ],
   "source": [
    "# Utiliser FactorAnalysis de scikitlearn\n",
    "methods = [\n",
    "    (\"FA No rotation\", FactorAnalysis(2,)),\n",
    "    (\"FA Varimax\", FactorAnalysis(2, rotation=\"varimax\")),\n",
    "    (\"FA Quartimax\", FactorAnalysis(2, rotation=\"quartimax\")),\n",
    "]\n",
    "fig, axes = plt.subplots(ncols=3, figsize=(10, 8), sharex=True, sharey=True)\n",
    "\n",
    "for ax, (method, fa) in zip(axes, methods):\n",
    "    fa = fa.fit(X_scaled)\n",
    "\n",
    "    components = fa.components_\n",
    "    ax.scatter(components[0,:], components[1, :])\n",
    "    ax.axhline(0, -1, 1, color='k')\n",
    "    ax.axvline(0, -1, 1, color='k')\n",
    "    for i,j, z in zip(components[0, :], components[1, :], X_scaled.columns):\n",
    "        ax.text(i+.02, j+.02, str(z), ha=\"center\")\n",
    "    ax.set_title(str(method))\n",
    "    if ax.get_subplotspec().is_first_col():\n",
    "        ax.set_ylabel(\"Factor 1\")\n",
    "    ax.set_xlabel(\"Factor 2\")\n",
    "\n",
    "plt.tight_layout()\n",
    "plt.show()"
   ]
  },
  {
   "cell_type": "markdown",
   "id": "0355d584",
   "metadata": {},
   "source": [
    "#### Questions du TD2\n",
    "\n",
    "##### Quelles sont les variables corrélées ?\n",
    "\n",
    "Les variables corrélées identifiées à partir de l'analyse factorielle comprennent :\n",
    "- Entre \"Good\" et \"Bad\" - Corrélation négative ce qui veut dire que lorsque la piste est en bonne condition, elle n'est pas en mauvaise condition et vice versa.\n",
    "- Entre \"Heavy\" et \"Slightly Heavy\" - Corrélation positive ce qui veut dire que lorsque la piste est en condition \"Heavy\", elle est aussi en condition \"Slightly Heavy\" et inversement.\n",
    "\n",
    "##### A partir de ces corrélations, pourriez-vous trouver le sens de chaque facteur ?\n",
    "- Le premier facteur semble représenter une dimension de \"Condition de la piste\", où des valeurs élevées indiquent des conditions de piste plus favorables (Good, Slightly Heavy) et des valeurs faibles indiquent des conditions moins favorables (Bad, Heavy).\n",
    "- Le deuxième facteur semble représenter une dimension de \"Type de dégradation de la piste\", où on distingue les pistes \"Slightly Heavy\" des pistes \"Heavy\" ou \"Bad\". Comme un contraste entre les conditions intermédiaires et extrêmes."
   ]
  },
  {
   "cell_type": "markdown",
   "id": "f8b9a294",
   "metadata": {},
   "source": [
    "---\n",
    "\n",
    "## 7. Explications, interprétations\n",
    "\n",
    "---\n",
    "\n",
    "## 8. Conclusion, déclaration d'utilisation des outils de l'IA générative"
   ]
  }
 ],
 "metadata": {
  "kernelspec": {
   "display_name": "Python 3",
   "language": "python",
   "name": "python3"
  },
  "language_info": {
   "codemirror_mode": {
    "name": "ipython",
    "version": 3
   },
   "file_extension": ".py",
   "mimetype": "text/x-python",
   "name": "python",
   "nbconvert_exporter": "python",
   "pygments_lexer": "ipython3",
   "version": "3.13.8"
  }
 },
 "nbformat": 4,
 "nbformat_minor": 5
}
